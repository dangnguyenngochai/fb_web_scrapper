{
 "cells": [
  {
   "cell_type": "code",
   "execution_count": 103,
   "id": "7646babb-064f-40d3-a260-d9f62ec215a8",
   "metadata": {},
   "outputs": [
    {
     "name": "stderr",
     "output_type": "stream",
     "text": [
      "\n",
      "\n",
      "====== WebDriver manager ======\n",
      "Current firefox version is 94.0\n",
      "Get LATEST geckodriver version for 94.0 firefox\n",
      "Driver [/home/lighthouse/.wdm/drivers/geckodriver/linux64/v0.30.0/geckodriver] found in cache\n",
      "/tmp/ipykernel_6938/564049518.py:12: DeprecationWarning: executable_path has been deprecated, please pass in a Service object\n",
      "  browser = webdriver.Firefox(executable_path=GeckoDriverManager().install())\n"
     ]
    }
   ],
   "source": [
    "# Easy way to handle adding geckodriver to PATH\n",
    "from selenium import webdriver;\n",
    "from selenium.webdriver.common.by import By\n",
    "from selenium.webdriver.support.ui import WebDriverWait\n",
    "from selenium.webdriver.common.action_chains import ActionChains\n",
    "from selenium.webdriver.support import expected_conditions as EC\n",
    "from webdriver_manager.firefox import GeckoDriverManager\n",
    "\n",
    "import time\n",
    "import wget\n",
    "import os\n",
    "browser = webdriver.Firefox(executable_path=GeckoDriverManager().install())\n",
    "\n",
    "root_path=\"https://fb.com/\"\n",
    "data_path=\"data/\""
   ]
  },
  {
   "cell_type": "code",
   "execution_count": 104,
   "id": "b6d835c8-3a07-4085-a17e-8d5be0eb470c",
   "metadata": {},
   "outputs": [],
   "source": [
    "# Login to facebook\n",
    "# Implementation Note: besure to slow down the iteractions between selenium and facebook, or facebook will detect the abnomal behavior\n",
    "browser.get(root_path)\n",
    "\n",
    "# Locating the username field\n",
    "username = WebDriverWait(browser, 10).until(EC.element_to_be_clickable((By.NAME, 'email')))\n",
    "password = WebDriverWait(browser, 10).until(EC.element_to_be_clickable((By.NAME, 'pass')))                                           \n",
    "\n",
    "# Input the email and password\n",
    "username.send_keys('taikhoanclone2411@gmail.com')\n",
    "password.send_keys('thisisademopassword')\n",
    "time.sleep(3)\n",
    "username.submit()\n",
    "\n",
    "# For this account, fb will ask for providing phone number as a safety measure\n",
    "try:\n",
    "    not_now =  WebDriverWait(browser, 10).until(EC.element_to_be_clickable((By.NAME, 'clicked_not_now[1]')))\n",
    "    time.sleep(2)\n",
    "    not_now.click()\n",
    "except:\n",
    "    pass"
   ]
  },
  {
   "cell_type": "code",
   "execution_count": 105,
   "id": "4ef1a3e4-35ef-4554-bba8-499897e4107c",
   "metadata": {},
   "outputs": [
    {
     "name": "stdout",
     "output_type": "stream",
     "text": [
      "https://www.facebook.com/photo/\n",
      "100% [........................................................] 553011 / 553011"
     ]
    }
   ],
   "source": [
    "# We will download all images that have `alt` with string 'person' or 'people'\n",
    "# For demo, we will only download 20 images\n",
    "\n",
    "groups_ids = ['1953355488226190'] # We will hard-code the ids belonging to the groups from whose images we download from \n",
    "n = 10\n",
    "\n",
    "for id in groups_ids:\n",
    "    path_to_photos = '/groups/%s/media/photos'%id\n",
    "    partial_path_to_photo = 'https://www.facebook.com/photo/'\n",
    "    print(partial_path_to_photo)\n",
    "    browser.get(root_path + path_to_photos)\n",
    "    time.sleep(5)\n",
    "    # Get the anchors DOM containing url that locating the photo resource, as the /photo/ path only show thumnails \n",
    "    anchors =  browser.find_elements(By.TAG_NAME, \"a\")        \n",
    "    anchors_hrefs = [anchor.get_attribute(\"href\") or \"\" for anchor in anchors] # get all anchors in DOM\n",
    "    photos_hrefs = [href for href in anchors_hrefs if href.startswith(partial_path_to_photo)] # get anchors of images\n",
    "    imgs = []\n",
    "    browser.get(photos_hrefs[1]) # skip the first element as it is the group wallpaper\n",
    "    \n",
    "    for i in range(n):\n",
    "        img = WebDriverWait(browser, 10).until(\n",
    "            EC.element_to_be_clickable((By.CSS_SELECTOR, \"img[data-visualcompletion='media-vc-image']\"))\n",
    "        )\n",
    "        alt = img.get_attribute('alt')\n",
    "        if alt or False:\n",
    "            if 'person' in alt or 'people' in alt:\n",
    "                imgs.append(img.get_attribute('src'))\n",
    "        time.sleep(3)\n",
    "        next_button_section = browser.find_element(By.CSS_SELECTOR, \"div[aria-label='Next photo']\")\n",
    "        hover = ActionChains(browser).move_to_element(next_button_section) # hover to the element, after this the element is changed\n",
    "        next_button = browser.find_element(By.CSS_SELECTOR, \"div[aria-label='Next photo']\")  \n",
    "        hover.perform()\n",
    "        if not next_button:\n",
    "            break\n",
    "        else:\n",
    "            next_button.click()\n",
    "            # hover.click(next_button)\n",
    "            # time.sleep(1)\n",
    "            # hover.perform()\n",
    "        \n",
    "    for i, img in enumerate(imgs):\n",
    "        save_as = data_path + str(i) + '.jpg'\n",
    "        if os.path.exists(save_as):\n",
    "            os.remove(save_as)\n",
    "        wget.download(img, save_as)"
   ]
  },
  {
   "cell_type": "code",
   "execution_count": null,
   "id": "ecebddc8-db06-4c72-9226-040ace2f8776",
   "metadata": {},
   "outputs": [],
   "source": []
  },
  {
   "cell_type": "code",
   "execution_count": null,
   "id": "deacbb87-337e-4cfe-ad66-f34496c89e6d",
   "metadata": {},
   "outputs": [],
   "source": []
  }
 ],
 "metadata": {
  "kernelspec": {
   "display_name": "base",
   "language": "python",
   "name": "base"
  },
  "language_info": {
   "codemirror_mode": {
    "name": "ipython",
    "version": 3
   },
   "file_extension": ".py",
   "mimetype": "text/x-python",
   "name": "python",
   "nbconvert_exporter": "python",
   "pygments_lexer": "ipython3",
   "version": "3.8.5"
  }
 },
 "nbformat": 4,
 "nbformat_minor": 5
}
